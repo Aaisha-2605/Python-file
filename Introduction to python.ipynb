{
 "cells": [
  {
   "cell_type": "markdown",
   "metadata": {},
   "source": [
    "Introduction to Python"
   ]
  },
  {
   "cell_type": "code",
   "execution_count": null,
   "metadata": {},
   "outputs": [
    {
     "data": {
      "text/plain": [
       "Hello world\n",
       "5\n",
       "Python by Rishabh Mishra\n",
       "7\n",
       "14\n",
       "Python by -- Rishabh Mishra\n",
       "16\n",
       "10\n"
      ]
     },
     "metadata": {},
     "output_type": "display_data"
    }
   ],
   "source": [
    "print (\"Hello world\")\n",
    "# print(\"Hello World\")\n",
    "# This is how we add comment into python by pressing (cntrl+?)\n",
    "# (This is a variable)\n",
    "a=5 \n",
    "print(a)\n",
    "# (this is a string)\n",
    "Instructor = \"Rishabh Mishra\" \n",
    "print(\"Python by\",Instructor)\n",
    "# python as a calculator\n",
    "print (4+3)\n",
    "\n",
    "b= 9\n",
    "print(a+b)\n",
    "\n",
    "print (\"Python by\", Instructor, sep =' -- ')\n",
    "print (2** 4)\n",
    "print (20//2)\n",
    "\n"
   ]
  }
 ],
 "metadata": {
  "language_info": {
   "name": "python"
  }
 },
 "nbformat": 4,
 "nbformat_minor": 2
}
